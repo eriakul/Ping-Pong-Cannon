{
 "cells": [
  {
   "cell_type": "code",
   "execution_count": 1,
   "metadata": {
    "collapsed": true
   },
   "outputs": [],
   "source": [
    "import pygame \n",
    "from modsim import *\n",
    "\n",
    "\n"
   ]
  },
  {
   "cell_type": "code",
   "execution_count": 2,
   "metadata": {
    "collapsed": true
   },
   "outputs": [],
   "source": [
    "def resize_image(image, dimensions):\n",
    "    new_image = pygame.transform.scale(image, dimensions)\n",
    "    #(Surface, (width, height), DestSurface = None)\n",
    "    return new_image\n"
   ]
  },
  {
   "cell_type": "code",
   "execution_count": 23,
   "metadata": {
    "collapsed": true,
    "scrolled": true
   },
   "outputs": [],
   "source": [
    "# Define some colors\n",
    "BLACK = (0, 0, 0)\n",
    "WHITE = (255, 255, 255)\n",
    "GREEN = (0, 255, 0)\n",
    "RED = (255, 0, 0)\n",
    "pygame.init()\n",
    "\n",
    "# Set the width and height of the screen [width, height] \n",
    "# (0,0) is upper-right corner\n",
    "screen_size = (1100, 700)\n",
    "screen = pygame.display.set_mode(screen_size)\n",
    "pygame.display.set_caption(\"Le Window\")\n",
    "\n",
    "# Loop until the user clicks the close button.\n",
    "done = False\n",
    "clock = pygame.time.Clock()\n",
    "clock.tick(60) # Limit to 60 frames per second\n",
    "\n",
    "#load pictures\n",
    "Ricky = pygame.image.load(\"RickySprite.png\")\n",
    "Florida = pygame.image.load(\"Florida.jpg\")\n",
    "newFlorida = resize_image(Florida,screen_size)\n",
    "Cannon = pygame.image.load(\"Cannon.png\")\n",
    "angle = 0\n",
    "\n",
    "#Other Stuff\n",
    "pressed = pygame.key.get_pressed()\n",
    "\n",
    "def rotate(img, pos, angle):\n",
    "    w, h = img.get_size()\n",
    "    img2 = pygame.Surface((w*2, h*2), pygame.SRCALPHA)\n",
    "    img2.blit(img, (w-pos[0], h-pos[1]))\n",
    "    return pygame.transform.rotate(img2, angle)\n",
    "\n",
    "\n",
    "# -------- Main Program Loop -----------\n",
    "while not done:\n",
    "    for event in pygame.event.get():\n",
    "        if event.type == pygame.QUIT:\n",
    "            done = True\n",
    "            \n",
    "        pressed = pygame.key.get_pressed()\n",
    "        if pressed[pygame.K_UP]:\n",
    "            angle += 5\n",
    "        if pressed[pygame.K_DOWN]:\n",
    "            angle-= 5\n",
    "\n",
    "        screen.blit(newFlorida,(0,0))\n",
    "        screen.blit(Ricky,(10,400))\n",
    "        newCannon = pygame.transform.rotate(Cannon,angle)\n",
    "        screen.blit(newCannon,(0,500))\n",
    "        pygame.display.flip()\n",
    "\n",
    "    \n",
    "    \n",
    "# Close the window and quit.\n",
    "pygame.quit()\n"
   ]
  },
  {
   "cell_type": "code",
   "execution_count": 4,
   "metadata": {
    "collapsed": true
   },
   "outputs": [],
   "source": [
    "condition = Condition "
   ]
  },
  {
   "cell_type": "code",
   "execution_count": null,
   "metadata": {
    "collapsed": true
   },
   "outputs": [],
   "source": []
  }
 ],
 "metadata": {
  "kernelspec": {
   "display_name": "Python 3",
   "language": "python",
   "name": "python3"
  },
  "language_info": {
   "codemirror_mode": {
    "name": "ipython",
    "version": 3
   },
   "file_extension": ".py",
   "mimetype": "text/x-python",
   "name": "python",
   "nbconvert_exporter": "python",
   "pygments_lexer": "ipython3",
   "version": "3.6.1"
  }
 },
 "nbformat": 4,
 "nbformat_minor": 2
}
