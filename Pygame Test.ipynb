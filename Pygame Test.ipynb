{
 "cells": [
  {
   "cell_type": "code",
   "execution_count": 1,
   "metadata": {
    "collapsed": true
   },
   "outputs": [],
   "source": [
    "import pygame \n",
    "from modsim import *\n",
    "import numpy as np\n",
    "\n",
    "%matplotlib notebook"
   ]
  },
  {
   "cell_type": "code",
   "execution_count": 2,
   "metadata": {
    "collapsed": true
   },
   "outputs": [],
   "source": [
    "condition = Condition(angle = 0, #in degrees\n",
    "                     mass = .0027, #in kilograms\n",
    "                     diameter = .04, #in meters \n",
    "                     rho = 1.16, #air density in kg/m^3\n",
    "                     C_d = .445, #unitless\n",
    "                     cannon_length = .91,\n",
    "                     velocity = 90,\n",
    "                     duration = 4,\n",
    "                     g=9.81,\n",
    "                     omega = 0.0001) #meters\n",
    "\n",
    "def make_system(condition):\n",
    "    unpack(condition)\n",
    "    theta = np.deg2rad(angle)\n",
    "    vx, vy = pol2cart(theta, velocity)\n",
    "    x, y = (pol2cart(theta, cannon_length))\n",
    "    y += 1\n",
    "    init = State(x=x, y=y, vx=vx, vy=vy)\n",
    "    area = np.pi * (diameter/2)**2\n",
    "    ts = linspace(0, duration, 101)\n",
    "    return System(init=init, g=g, mass=mass,\n",
    "        area=area, rho=rho, C_d=C_d, ts=ts, omega=omega)"
   ]
  },
  {
   "cell_type": "code",
   "execution_count": 3,
   "metadata": {
    "collapsed": true
   },
   "outputs": [],
   "source": [
    "def slope_func(state,t,system):\n",
    "    \n",
    "    x,y,vx,vy = state\n",
    "    unpack(system)\n",
    "    \n",
    "    v=Vector(vx,vy)\n",
    "    \n",
    "    a_grav = Vector(0,-g) #turning gravity into a vector\n",
    "    a_drag = (-rho*v.mag*v*C_d*area/2)/mass #calculating acceleration due to drag\n",
    "   \n",
    "    \n",
    "    a_magnus_mag = (abs((omega)*(v.mag**2)))/mass # calculating magnitude of magnus acceleration\n",
    "    a_magnus_angle = v.angle + np.pi/2 # making angle of magnus acceleration perpendecular to direction of velocity\n",
    "    magnus_x, magnus_y = pol2cart(a_magnus_angle * UNITS.radian,a_magnus_mag) # turning magnitude and angle into x and y components\n",
    "    a_magnus = Vector(magnus_x, magnus_y) #turning components into a vector\n",
    "    \n",
    "    a = a_grav + a_drag + a_magnus #adding all accerlations together as vectors\n",
    "    \n",
    "   \n",
    "    return vx, vy, a.x, a.y #dot operators are used for accleration because it is a vector"
   ]
  },
  {
   "cell_type": "code",
   "execution_count": 4,
   "metadata": {
    "collapsed": true
   },
   "outputs": [],
   "source": [
    "system=make_system(condition)\n",
    "run_odeint(system,slope_func) #created system.results"
   ]
  },
  {
   "cell_type": "code",
   "execution_count": 5,
   "metadata": {
    "scrolled": true
   },
   "outputs": [
    {
     "data": {
      "text/plain": [
       "(0.91000000000000003, 1.0)"
      ]
     },
     "execution_count": 5,
     "metadata": {},
     "output_type": "execute_result"
    }
   ],
   "source": [
    "xs = system.results.x\n",
    "ys = system.results.y\n",
    "\n",
    "(system.init.x, system.init.y)"
   ]
  },
  {
   "cell_type": "code",
   "execution_count": 6,
   "metadata": {},
   "outputs": [
    {
     "data": {
      "text/plain": [
       "3.141592653589793"
      ]
     },
     "execution_count": 6,
     "metadata": {},
     "output_type": "execute_result"
    }
   ],
   "source": [
    "def resize_image(image, dimensions):\n",
    "    new_image = pygame.transform.scale(image, dimensions)\n",
    "    #(Surface, (width, height), DestSurface = None)\n",
    "    return new_image\n",
    "\n",
    "np.pi"
   ]
  },
  {
   "cell_type": "code",
   "execution_count": 7,
   "metadata": {
    "scrolled": true
   },
   "outputs": [
    {
     "ename": "NameError",
     "evalue": "name 'x' is not defined",
     "output_type": "error",
     "traceback": [
      "\u001b[1;31m---------------------------------------------------------------------------\u001b[0m",
      "\u001b[1;31mNameError\u001b[0m                                 Traceback (most recent call last)",
      "\u001b[1;32m<ipython-input-7-82a921d9d3c7>\u001b[0m in \u001b[0;36m<module>\u001b[1;34m()\u001b[0m\n\u001b[0;32m     63\u001b[0m \u001b[1;33m\u001b[0m\u001b[0m\n\u001b[0;32m     64\u001b[0m \u001b[1;33m\u001b[0m\u001b[0m\n\u001b[1;32m---> 65\u001b[1;33m             \u001b[0mscreen\u001b[0m\u001b[1;33m.\u001b[0m\u001b[0mblit\u001b[0m\u001b[1;33m(\u001b[0m\u001b[0mBall\u001b[0m\u001b[1;33m,\u001b[0m \u001b[1;33m(\u001b[0m\u001b[0mx\u001b[0m\u001b[1;33m,\u001b[0m \u001b[0my\u001b[0m\u001b[1;33m)\u001b[0m\u001b[1;33m)\u001b[0m\u001b[1;33m\u001b[0m\u001b[0m\n\u001b[0m\u001b[0;32m     66\u001b[0m \u001b[1;33m\u001b[0m\u001b[0m\n\u001b[0;32m     67\u001b[0m         \u001b[1;31m#Animate Cannon\u001b[0m\u001b[1;33m\u001b[0m\u001b[1;33m\u001b[0m\u001b[0m\n",
      "\u001b[1;31mNameError\u001b[0m: name 'x' is not defined"
     ]
    }
   ],
   "source": [
    "# Define some colors\n",
    "\n",
    "pygame.init()\n",
    "\n",
    "# Set the width and height of the screen [width, height] \n",
    "# (0,0) is upper-right corner\n",
    "screen_size = (1100, 700)\n",
    "screen = pygame.display.set_mode(screen_size)\n",
    "pygame.display.set_caption(\"Le Window\")\n",
    "\n",
    "# Loop until the user clicks the close button.\n",
    "done = False\n",
    "clock = pygame.time.Clock()\n",
    "clock.tick(60) # Limit to 60 frames per second\n",
    "\n",
    "#load pictures\n",
    "Ricky = pygame.image.load(\"RickySprite.png\")\n",
    "Florida = pygame.image.load(\"Florida.jpg\")\n",
    "newFlorida = resize_image(Florida,screen_size)\n",
    "Cannon = pygame.image.load(\"Cannon.png\")\n",
    "Ball_orig = pygame.image.load(\"Ball.png\")\n",
    "Ball = resize_image(Ball_orig, (20,20))\n",
    "\n",
    "#Other Stuff\n",
    "pressed = pygame.key.get_pressed()\n",
    "font = pygame.font.SysFont('Arial', 80, True, False)\n",
    "screen_rect = screen.get_rect()\n",
    "Cannon_rect = Cannon.get_rect(center=([20,545]))\n",
    "angle = 0\n",
    "t = 5\n",
    "shoot = False\n",
    "initialize = False\n",
    "magnification_x = 180/.91\n",
    "magnification_y = 155\n",
    "\n",
    "# -------- Main Program Loop -----------\n",
    "while not done:\n",
    "    for event in pygame.event.get():\n",
    "        #Quit Game code\n",
    "        if event.type == pygame.QUIT:\n",
    "            done = True\n",
    "        \n",
    "        #Get key for angle\n",
    "        pressed = pygame.key.get_pressed()\n",
    "        if pressed[pygame.K_UP]:\n",
    "            angle += 5\n",
    "        if pressed[pygame.K_DOWN]:\n",
    "            angle-= 5\n",
    "            \n",
    "        #Get key for shoot\n",
    "        if pressed[pygame.K_SPACE]:\n",
    "            shoot = True\n",
    "        \n",
    "        #Animate background and Ricky\n",
    "        screen.blit(newFlorida,(0,0))\n",
    "        screen.blit(Ricky,(10,400))\n",
    "        \n",
    "        #Find ball position\n",
    "        if shoot == True:\n",
    "            pygame.draw.rect(screen,(0,0,0), [0,0,0,0])\n",
    "            x = xs[xs.index[t]]*magnification_x ###BROKEN HERE\n",
    "            y = 700 - ys[ys.index[t]]*magnification_y\n",
    "            \n",
    "            \n",
    "            \n",
    "            screen.blit(Ball, (x, y))\n",
    "        \n",
    "        #Animate Cannon\n",
    "        newCannon = pygame.transform.rotate(Cannon,angle)\n",
    "        Cannon_rect = newCannon.get_rect(center=Cannon_rect.center) #LOOK HERE ERIKA\n",
    "        screen.blit(newCannon, Cannon_rect)\n",
    "        \n",
    "        #Make angle sign\n",
    "        pygame.draw.rect(screen, (0,0,100), [940, 10, 140, 100])\n",
    "        pygame.draw.rect(screen, (255,255,255), [950, 20, 120, 80])\n",
    "        angle_string = str(angle)\n",
    "        angle_degrees = angle_string+ u'\\u00b0'\n",
    "        angle_display = font.render(angle_degrees, True, (0,0,0))\n",
    "        screen.blit(angle_display, (960,20))\n",
    "        pygame.display.flip()\n",
    "\n",
    "            \n",
    "    \n",
    "# Close the window and quit.\n",
    "pygame.quit()\n"
   ]
  },
  {
   "cell_type": "code",
   "execution_count": null,
   "metadata": {
    "collapsed": true
   },
   "outputs": [],
   "source": []
  },
  {
   "cell_type": "code",
   "execution_count": 11,
   "metadata": {},
   "outputs": [
    {
     "data": {
      "text/plain": [
       "Float64Index([ 0.0, 0.04, 0.08, 0.12, 0.16,  0.2, 0.24, 0.28, 0.32, 0.36,\n",
       "              ...\n",
       "              3.64, 3.68, 3.72, 3.76,  3.8, 3.84, 3.88, 3.92, 3.96,  4.0],\n",
       "             dtype='float64', length=101)"
      ]
     },
     "execution_count": 11,
     "metadata": {},
     "output_type": "execute_result"
    }
   ],
   "source": [
    "ys.index"
   ]
  },
  {
   "cell_type": "code",
   "execution_count": 10,
   "metadata": {},
   "outputs": [
    {
     "data": {
      "text/plain": [
       "<rect(0, 0, 360, 54)>"
      ]
     },
     "execution_count": 10,
     "metadata": {},
     "output_type": "execute_result"
    }
   ],
   "source": [
    "Cannon.get_rect()"
   ]
  },
  {
   "cell_type": "code",
   "execution_count": 27,
   "metadata": {},
   "outputs": [
    {
     "data": {
      "text/plain": [
       "197.80219780219778"
      ]
     },
     "execution_count": 27,
     "metadata": {},
     "output_type": "execute_result"
    }
   ],
   "source": []
  },
  {
   "cell_type": "code",
   "execution_count": null,
   "metadata": {
    "collapsed": true
   },
   "outputs": [],
   "source": []
  }
 ],
 "metadata": {
  "kernelspec": {
   "display_name": "Python 3",
   "language": "python",
   "name": "python3"
  },
  "language_info": {
   "codemirror_mode": {
    "name": "ipython",
    "version": 3
   },
   "file_extension": ".py",
   "mimetype": "text/x-python",
   "name": "python",
   "nbconvert_exporter": "python",
   "pygments_lexer": "ipython3",
   "version": "3.6.1"
  }
 },
 "nbformat": 4,
 "nbformat_minor": 2
}
