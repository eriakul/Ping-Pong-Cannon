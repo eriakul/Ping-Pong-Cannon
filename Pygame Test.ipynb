{
 "cells": [
  {
   "cell_type": "code",
   "execution_count": 3,
   "metadata": {
    "collapsed": true
   },
   "outputs": [],
   "source": [
    "import pygame \n",
    "from modsim import *\n",
    "\n",
    "\n"
   ]
  },
  {
   "cell_type": "code",
   "execution_count": 4,
   "metadata": {
    "collapsed": true
   },
   "outputs": [],
   "source": [
    "def resize_image(image, dimensions):\n",
    "    new_image = pygame.transform.scale(image, dimensions)\n",
    "    #(Surface, (width, height), DestSurface = None)\n",
    "    return new_image\n"
   ]
  },
  {
   "cell_type": "code",
   "execution_count": null,
   "metadata": {
    "scrolled": true
   },
   "outputs": [],
   "source": [
    "# Define some colors\n",
    "\n",
    "pygame.init()\n",
    "\n",
    "# Set the width and height of the screen [width, height] \n",
    "# (0,0) is upper-right corner\n",
    "screen_size = (1100, 700)\n",
    "screen = pygame.display.set_mode(screen_size)\n",
    "pygame.display.set_caption(\"Le Window\")\n",
    "\n",
    "# Loop until the user clicks the close button.\n",
    "done = False\n",
    "clock = pygame.time.Clock()\n",
    "clock.tick(60) # Limit to 60 frames per second\n",
    "\n",
    "#load pictures\n",
    "Ricky = pygame.image.load(\"RickySprite.png\")\n",
    "Florida = pygame.image.load(\"Florida.jpg\")\n",
    "newFlorida = resize_image(Florida,screen_size)\n",
    "Cannon = pygame.image.load(\"Cannon.png\")\n",
    "angle = 0\n",
    "\n",
    "#Other Stuff\n",
    "pressed = pygame.key.get_pressed()\n",
    "font = pygame.font.SysFont('Arial', 80, True, False)\n",
    "screen_rect = screen.get_rect()\n",
    "Cannon_rect = Cannon.get_rect(center=([100,550]))\n",
    "\n",
    "\n",
    "\n",
    "# -------- Main Program Loop -----------\n",
    "while not done:\n",
    "    for event in pygame.event.get():\n",
    "        if event.type == pygame.QUIT:\n",
    "            done = True\n",
    "            \n",
    "        pressed = pygame.key.get_pressed()\n",
    "        if pressed[pygame.K_UP]:\n",
    "            angle += 5\n",
    "        if pressed[pygame.K_DOWN]:\n",
    "            angle-= 5\n",
    "\n",
    "        screen.blit(newFlorida,(0,0))\n",
    "        screen.blit(Ricky,(10,400))\n",
    "        newCannon = pygame.transform.rotate(Cannon,angle)\n",
    "        Cannon_rect = newCannon.get_rect(center=Cannon_rect.center) #LOOK HERE ERIKA\n",
    "        screen.blit(newCannon, Cannon_rect)\n",
    "        \n",
    "        \n",
    "        pygame.draw.rect(screen, (0,0,100), [940, 10, 140, 100])\n",
    "        pygame.draw.rect(screen, (255,255,255), [950, 20, 120, 80])\n",
    "        angle_string = str(angle)\n",
    "        angle_degrees = angle_string+ u'\\u00b0'\n",
    "        angle_display = font.render(angle_degrees, True, (0,0,0))\n",
    "        screen.blit(angle_display, (960,20))\n",
    "        pygame.display.flip()\n",
    "\n",
    "    \n",
    "    \n",
    "# Close the window and quit.\n",
    "pygame.quit()\n"
   ]
  },
  {
   "cell_type": "code",
   "execution_count": null,
   "metadata": {
    "collapsed": true
   },
   "outputs": [],
   "source": [
    "condition = Condition "
   ]
  },
  {
   "cell_type": "code",
   "execution_count": 5,
   "metadata": {
    "collapsed": true
   },
   "outputs": [],
   "source": [
    "def make_system(condition):\n",
    "    unpack(condition)\n",
    "    theta = np.deg2rad(angle)\n",
    "    vx, vy = pol2cart(theta, velocity)\n",
    "    x, y = pol2cart(theta, cannon_length)\n",
    "    init = State(x=x, y=y, vx=vx, vy=vy)\n",
    "    area = np.pi * (diameter/2)**2\n",
    "    ts = linspace(0, duration, 101)\n",
    "    return System(init=init, g=g, mass=mass,\n",
    "        area=area, rho=rho, C_d=C_d, ts=ts, omega=omega)\n",
    "    "
   ]
  },
  {
   "cell_type": "code",
   "execution_count": 9,
   "metadata": {
    "collapsed": true
   },
   "outputs": [],
   "source": []
  },
  {
   "cell_type": "code",
   "execution_count": 10,
   "metadata": {},
   "outputs": [
    {
     "data": {
      "text/plain": [
       "0.86602540378443871"
      ]
     },
     "execution_count": 10,
     "metadata": {},
     "output_type": "execute_result"
    }
   ],
   "source": []
  },
  {
   "cell_type": "code",
   "execution_count": null,
   "metadata": {
    "collapsed": true
   },
   "outputs": [],
   "source": []
  }
 ],
 "metadata": {
  "kernelspec": {
   "display_name": "Python 3",
   "language": "python",
   "name": "python3"
  },
  "language_info": {
   "codemirror_mode": {
    "name": "ipython",
    "version": 3
   },
   "file_extension": ".py",
   "mimetype": "text/x-python",
   "name": "python",
   "nbconvert_exporter": "python",
   "pygments_lexer": "ipython3",
   "version": "3.6.1"
  }
 },
 "nbformat": 4,
 "nbformat_minor": 2
}
