{
 "cells": [
  {
   "cell_type": "code",
   "execution_count": null,
   "metadata": {
    "collapsed": true
   },
   "outputs": [],
   "source": [
    "import pygame \n",
    "from modsim import *\n",
    "\n",
    "\n"
   ]
  },
  {
   "cell_type": "code",
   "execution_count": null,
   "metadata": {
    "collapsed": true
   },
   "outputs": [],
   "source": [
    "def resize_image(image, dimensions):\n",
    "    new_image = pygame.transform.scale(image, dimensions)\n",
    "    #(Surface, (width, height), DestSurface = None)\n",
    "    return new_image\n"
   ]
  },
  {
   "cell_type": "code",
   "execution_count": null,
   "metadata": {
    "scrolled": true
   },
   "outputs": [],
   "source": [
    "# Define some colors\n",
    "BLACK = (0, 0, 0)\n",
    "WHITE = (255, 255, 255)\n",
    "GREEN = (0, 255, 0)\n",
    "RED = (255, 0, 0)\n",
    "pygame.init()\n",
    "\n",
    "# Set the width and height of the screen [width, height] \n",
    "# (0,0) is upper-right corner\n",
    "screen_size = (1100, 700)\n",
    "screen = pygame.display.set_mode(screen_size)\n",
    "pygame.display.set_caption(\"Le Window\")\n",
    "\n",
    "# Loop until the user clicks the close button.\n",
    "done = False\n",
    "clock = pygame.time.Clock()\n",
    "clock.tick(60) # Limit to 60 frames per second\n",
    "\n",
    "#load pictures\n",
    "Ricky = pygame.image.load(\"RickySprite.png\")\n",
    "Florida = pygame.image.load(\"Florida.jpg\")\n",
    "newFlorida = resize_image(Florida,screen_size)\n",
    "\n",
    "# -------- Main Program Loop -----------\n",
    "while not done:\n",
    "    for event in pygame.event.get():\n",
    "        if event.type == pygame.QUIT:\n",
    "            done = True\n",
    "\n",
    "        screen.blit(newFlorida,(0,0))\n",
    "        screen.blit(Ricky,(0,1100))\n",
    "    \n",
    "        pygame.display.flip()\n",
    "\n",
    "    \n",
    "    \n",
    "# Close the window and quit.\n",
    "pygame.quit()\n"
   ]
  },
  {
   "cell_type": "code",
   "execution_count": 4,
   "metadata": {
    "collapsed": true
   },
   "outputs": [],
   "source": [
    "condition = Condition "
   ]
  },
  {
   "cell_type": "code",
   "execution_count": null,
   "metadata": {
    "collapsed": true
   },
   "outputs": [],
   "source": []
  }
 ],
 "metadata": {
  "kernelspec": {
   "display_name": "Python 3",
   "language": "python",
   "name": "python3"
  },
  "language_info": {
   "codemirror_mode": {
    "name": "ipython",
    "version": 3
   },
   "file_extension": ".py",
   "mimetype": "text/x-python",
   "name": "python",
   "nbconvert_exporter": "python",
   "pygments_lexer": "ipython3",
   "version": "3.6.1"
  }
 },
 "nbformat": 4,
 "nbformat_minor": 2
}
