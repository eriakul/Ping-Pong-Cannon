{
 "cells": [
  {
   "cell_type": "code",
   "execution_count": 1,
   "metadata": {
    "collapsed": true
   },
   "outputs": [],
   "source": [
    "import pygame \n",
    "from modsim import *\n",
    "import numpy as np\n",
    "\n",
    "%matplotlib notebook"
   ]
  },
  {
   "cell_type": "code",
   "execution_count": 2,
   "metadata": {
    "collapsed": true
   },
   "outputs": [],
   "source": [
    "condition = Condition(angle = 0, #in degrees\n",
    "                     mass = .0027, #in kilograms\n",
    "                     diameter = .04, #in meters \n",
    "                     rho = 1.16, #air density in kg/m^3\n",
    "                     C_d = .445, #unitless\n",
    "                     cannon_length = .91,\n",
    "                     velocity = 90,\n",
    "                     duration = 10,\n",
    "                     g=9.81,\n",
    "                     omega = 0.00024) #meters\n",
    "\n",
    "def make_system(condition):\n",
    "    unpack(condition)\n",
    "    theta = np.deg2rad(angle)\n",
    "    vx, vy = pol2cart(theta, velocity)\n",
    "    x, y = (pol2cart(theta, cannon_length))\n",
    "    y += 1\n",
    "    init = State(x=x, y=y, vx=vx, vy=vy)\n",
    "    area = np.pi * (diameter/2)**2\n",
    "    ts = linspace(0, duration, 101)\n",
    "    return System(init=init, g=g, mass=mass,\n",
    "        area=area, rho=rho, C_d=C_d, ts=ts, omega=omega)\n",
    "\n",
    "def slope_func(state,t,system):\n",
    "    \n",
    "    x,y,vx,vy = state\n",
    "    unpack(system)\n",
    "    \n",
    "    v=Vector(vx,vy)\n",
    "    \n",
    "    a_grav = Vector(0,-g) #turning gravity into a vector\n",
    "    a_drag = (-rho*v.mag*v*C_d*area/2)/mass #calculating acceleration due to drag\n",
    "   \n",
    "    \n",
    "    a_magnus_mag = (abs((omega)*(v.mag**2)))/mass # calculating magnitude of magnus acceleration\n",
    "    a_magnus_angle = v.angle + np.pi/2 # making angle of magnus acceleration perpendecular to direction of velocity\n",
    "    magnus_x, magnus_y = pol2cart(a_magnus_angle * UNITS.radian,a_magnus_mag) # turning magnitude and angle into x and y components\n",
    "    a_magnus = Vector(magnus_x, magnus_y) #turning components into a vector\n",
    "    \n",
    "    a = a_grav + a_drag + a_magnus #adding all accerlations together as vectors\n",
    "    \n",
    "   \n",
    "    return vx, vy, a.x, a.y #dot operators are used for accleration because it is a vector"
   ]
  },
  {
   "cell_type": "code",
   "execution_count": 3,
   "metadata": {},
   "outputs": [],
   "source": [
    "def resize_image(image, dimensions):\n",
    "    new_image = pygame.transform.scale(image, dimensions)\n",
    "    #(Surface, (width, height), DestSurface = None)\n",
    "    return new_image\n",
    "\n"
   ]
  },
  {
   "cell_type": "code",
   "execution_count": 4,
   "metadata": {
    "scrolled": true
   },
   "outputs": [],
   "source": [
    "# Define some colors\n",
    "import sys\n",
    "from pygame.locals import *\n",
    "pygame.init()\n",
    "\n",
    "# Set the width and height of the screen [width, height] \n",
    "# (0,0) is upper-right corner\n",
    "screen_size = (1100, 700)\n",
    "screen = pygame.display.set_mode(screen_size)\n",
    "pygame.display.set_caption(\"Le Window\")\n",
    "\n",
    "# Loop until the user clicks the close button.\n",
    "done = False\n",
    "clock = pygame.time.Clock()\n",
    "\n",
    "\n",
    "#load pictures\n",
    "Ricky = pygame.image.load(\"RickySprite.png\")\n",
    "Florida = pygame.image.load(\"Florida.jpg\")\n",
    "newFlorida = resize_image(Florida,screen_size)\n",
    "Cannon = pygame.image.load(\"Cannon.png\")\n",
    "Ball_orig = pygame.image.load(\"Ball.png\")\n",
    "Ball = resize_image(Ball_orig, (20,20))\n",
    "\n",
    "#Other Stuff\n",
    "pressed = pygame.key.get_pressed()\n",
    "font = pygame.font.SysFont('Arial', 80, True, False)\n",
    "screen_rect = screen.get_rect()\n",
    "Cannon_rect = Cannon.get_rect(center=([20,555]))\n",
    "angle = 0\n",
    "t = 0\n",
    "shoot = False\n",
    "initialize = False\n",
    "magnification_x = 1\n",
    "magnification_y = 1\n",
    "\n",
    "# -------- Main Program Loop -----------\n",
    "while not done:\n",
    "    for event in pygame.event.get():\n",
    "        #Quit Game code\n",
    "        if event.type == pygame.QUIT:\n",
    "            done = True\n",
    "         \n",
    "        #Check if key is pressed\n",
    "        elif (event.type == KEYDOWN):\n",
    "            #Get key for shoot    \n",
    "            if (event.key == K_SPACE):\n",
    "                shoot = True\n",
    "                cannon_tip_x, cannon_tip_y = pol2cart(angle*pi/180, 180) \n",
    "                condition.set(angle=angle)\n",
    "                system = make_system(condition)\n",
    "                run_odeint(system,slope_func)\n",
    "                xs = system.results.x\n",
    "                ys = system.results.y\n",
    "\n",
    "                \n",
    "            #Get key for angle\n",
    "       \n",
    "            if (event.key == K_UP):\n",
    "                angle += 5\n",
    "            if (event.key == K_DOWN):\n",
    "                angle-= 5\n",
    "            \n",
    "\n",
    "        \n",
    "    #Animate background and Ricky\n",
    "    screen.blit(newFlorida,(0,0))\n",
    "    screen.blit(Ricky,(10,410))\n",
    "        \n",
    "    #Find ball position\n",
    "    if shoot == True:\n",
    "        pygame.draw.rect(screen,(0,255,0), [100,100,100,100])\n",
    "        start_x = 20 + cannon_tip_x\n",
    "        start_y = 555 - cannon_tip_y\n",
    "        magnification_x = start_x/xs[xs.index[0]]\n",
    "        magnification_y = start_y/ys[ys.index[0]]\n",
    "        \n",
    "        x = start_x + xs[xs.index[t]]*magnification_x \n",
    "        y = start_y - ys[ys.index[t]]*magnification_y\n",
    "        if t < 100:\n",
    "            t += 1   \n",
    "        screen.blit(Ball, (x, y))\n",
    "\n",
    "        \n",
    "        #Animate Cannon\n",
    "    newCannon = pygame.transform.rotate(Cannon,angle)\n",
    "    Cannon_rect = newCannon.get_rect(center=Cannon_rect.center) #LOOK HERE ERIKA\n",
    "    screen.blit(newCannon, Cannon_rect)\n",
    "        \n",
    "        #Make angle sign\n",
    "    pygame.draw.rect(screen, (0,0,100), [940, 10, 140, 100])\n",
    "    pygame.draw.rect(screen, (255,255,255), [950, 20, 120, 80])\n",
    "    angle_string = str(angle)\n",
    "    angle_degrees = angle_string+ u'\\u00b0'\n",
    "    angle_display = font.render(angle_degrees, True, (0,0,0))\n",
    "    screen.blit(angle_display, (960,20))\n",
    "    pygame.display.flip()\n",
    "    clock.tick(20) # Limit to 60 frames per second\n",
    "            \n",
    "    \n",
    "# Close the window and quit.\n",
    "pygame.quit()\n",
    "#sys.exit()\n"
   ]
  },
  {
   "cell_type": "code",
   "execution_count": 5,
   "metadata": {},
   "outputs": [
    {
     "data": {
      "text/plain": [
       "0.0      1.235525\n",
       "0.1      4.259409\n",
       "0.2      7.008632\n",
       "0.3      9.180687\n",
       "0.4     10.894016\n",
       "0.5     12.257235\n",
       "0.6     13.347903\n",
       "0.7     14.220149\n",
       "0.8     14.912081\n",
       "0.9     15.450816\n",
       "1.0     15.855737\n",
       "1.1     16.140586\n",
       "1.2     16.314811\n",
       "1.3     16.384455\n",
       "1.4     16.352957\n",
       "1.5     16.222519\n",
       "1.6     15.995902\n",
       "1.7     15.677462\n",
       "1.8     15.273320\n",
       "1.9     14.791133\n",
       "2.0     14.239689\n",
       "2.1     13.628446\n",
       "2.2     12.967069\n",
       "2.3     12.265024\n",
       "2.4     11.531241\n",
       "2.5     10.773871\n",
       "2.6     10.000131\n",
       "2.7      9.216233\n",
       "2.8      8.427372\n",
       "2.9      7.637775\n",
       "          ...    \n",
       "7.1    -21.041264\n",
       "7.2    -21.692113\n",
       "7.3    -22.343010\n",
       "7.4    -22.993953\n",
       "7.5    -23.644940\n",
       "7.6    -24.295968\n",
       "7.7    -24.947033\n",
       "7.8    -25.598132\n",
       "7.9    -26.249261\n",
       "8.0    -26.900417\n",
       "8.1    -27.551598\n",
       "8.2    -28.202799\n",
       "8.3    -28.854019\n",
       "8.4    -29.505255\n",
       "8.5    -30.156504\n",
       "8.6    -30.807765\n",
       "8.7    -31.459035\n",
       "8.8    -32.110313\n",
       "8.9    -32.761598\n",
       "9.0    -33.412888\n",
       "9.1    -34.064183\n",
       "9.2    -34.715481\n",
       "9.3    -35.366781\n",
       "9.4    -36.018084\n",
       "9.5    -36.669389\n",
       "9.6    -37.320694\n",
       "9.7    -37.972001\n",
       "9.8    -38.623308\n",
       "9.9    -39.274615\n",
       "10.0   -39.925922\n",
       "Name: y, Length: 101, dtype: float64"
      ]
     },
     "execution_count": 5,
     "metadata": {},
     "output_type": "execute_result"
    }
   ],
   "source": [
    "ys"
   ]
  },
  {
   "cell_type": "code",
   "execution_count": 6,
   "metadata": {},
   "outputs": [
    {
     "data": {
      "text/plain": [
       "220.55552044857325"
      ]
     },
     "execution_count": 6,
     "metadata": {},
     "output_type": "execute_result"
    }
   ],
   "source": [
    "magnification_x"
   ]
  },
  {
   "cell_type": "code",
   "execution_count": 7,
   "metadata": {},
   "outputs": [
    {
     "data": {
      "text/plain": [
       "411.49506133737947"
      ]
     },
     "execution_count": 7,
     "metadata": {},
     "output_type": "execute_result"
    }
   ],
   "source": [
    "magnification_y"
   ]
  },
  {
   "cell_type": "code",
   "execution_count": 27,
   "metadata": {},
   "outputs": [
    {
     "data": {
      "text/plain": [
       "197.80219780219778"
      ]
     },
     "execution_count": 27,
     "metadata": {},
     "output_type": "execute_result"
    }
   ],
   "source": []
  },
  {
   "cell_type": "code",
   "execution_count": null,
   "metadata": {
    "collapsed": true
   },
   "outputs": [],
   "source": []
  }
 ],
 "metadata": {
  "kernelspec": {
   "display_name": "Python 3",
   "language": "python",
   "name": "python3"
  },
  "language_info": {
   "codemirror_mode": {
    "name": "ipython",
    "version": 3
   },
   "file_extension": ".py",
   "mimetype": "text/x-python",
   "name": "python",
   "nbconvert_exporter": "python",
   "pygments_lexer": "ipython3",
   "version": "3.6.1"
  }
 },
 "nbformat": 4,
 "nbformat_minor": 2
}
